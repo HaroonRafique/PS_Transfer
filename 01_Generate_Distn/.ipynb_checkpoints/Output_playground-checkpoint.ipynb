{
 "cells": [
  {
   "cell_type": "code",
   "execution_count": 1,
   "metadata": {},
   "outputs": [],
   "source": [
    "import matplotlib.pyplot as plt\n",
    "from matplotlib.lines import Line2D\n",
    "import numpy as np\n",
    "import scipy.io as sio \n",
    "import matplotlib.cm as cm"
   ]
  },
  {
   "cell_type": "code",
   "execution_count": 5,
   "metadata": {},
   "outputs": [
    {
     "name": "stdout",
     "output_type": "stream",
     "text": [
      "\n"
     ]
    }
   ],
   "source": [
    "def Read_Bunch_Analysis_File(filename):\n",
    "\tf = filename\n",
    "\tp = dict()\n",
    "\tsio.loadmat(f, mdict=p)\n",
    "\tprint '\\n\\tRead_Bunch_Analysis_File::Open output data from ', filename\n",
    "\treturn p"
   ]
  },
  {
   "cell_type": "code",
   "execution_count": 7,
   "metadata": {},
   "outputs": [
    {
     "name": "stdout",
     "output_type": "stream",
     "text": [
      "\n",
      "\tRead_Bunch_Analysis_File::Open output data from  Distributions/PyORBIT_Gaussian_Bunch_Lattice_Twiss_Nmp_50000_PS_Original_Lattice_Tune_621_624_BWSV64_analysis.mat\n"
     ]
    }
   ],
   "source": [
    "d = Read_Bunch_Analysis_File('Distributions/PyORBIT_Gaussian_Bunch_Lattice_Twiss_Nmp_50000_PS_Original_Lattice_Tune_621_624_BWSV64_analysis.mat')"
   ]
  },
  {
   "cell_type": "code",
   "execution_count": 8,
   "metadata": {},
   "outputs": [
    {
     "data": {
      "text/plain": [
       "{'D_x': array([[2.42165202]]),\n",
       " 'D_y': array([[0.03734847]]),\n",
       " '__globals__': [],\n",
       " '__header__': 'MATLAB 5.0 MAT-file Platform: posix, Created on: Wed Oct 16 17:03:31 2019',\n",
       " '__version__': '1.0',\n",
       " 'alpha_x': array([[0.00334704]]),\n",
       " 'alpha_y': array([[0.04844875]]),\n",
       " 'beta_x': array([[12.30536447]]),\n",
       " 'beta_y': array([[22.28403563]]),\n",
       " 'bunchlength': array([[1.40140874e-07]]),\n",
       " 'dpp_rms': array([[0.00087275]]),\n",
       " 'eff_alpha_x': array([[0.00319844]]),\n",
       " 'eff_alpha_y': array([[0.04850029]]),\n",
       " 'eff_beta_x': array([[16.64351057]]),\n",
       " 'eff_beta_y': array([[22.28473652]]),\n",
       " 'eff_epsn_x': array([[5.91988902e-07]]),\n",
       " 'eff_epsn_y': array([[5.26686266e-07]]),\n",
       " 'eps_z': array([[0.75377465]]),\n",
       " 'epsn_x': array([[9.99091908e-07]]),\n",
       " 'epsn_y': array([[1.20218026e-06]]),\n",
       " 'gamma': array([[2.4921046]]),\n",
       " 'intensity': array([[7.25e+11]]),\n",
       " 'mean_dE': array([[-1.82269294e-08]]),\n",
       " 'mean_x': array([[7.49842469e-06]]),\n",
       " 'mean_xp': array([[1.06579417e-06]]),\n",
       " 'mean_y': array([[-1.82841322e-06]]),\n",
       " 'mean_yp': array([[3.89528939e-08]]),\n",
       " 'mean_z': array([[-0.02241126]]),\n",
       " 'mu_x': array([[9.85277354e-06]]),\n",
       " 'mu_y': array([[1.17370647e-05]]),\n",
       " 'n_mp': array([[50000]])}"
      ]
     },
     "execution_count": 8,
     "metadata": {},
     "output_type": "execute_result"
    }
   ],
   "source": [
    "d"
   ]
  },
  {
   "cell_type": "code",
   "execution_count": 9,
   "metadata": {},
   "outputs": [
    {
     "data": {
      "text/plain": [
       "['eps_z',\n",
       " 'D_x',\n",
       " 'D_y',\n",
       " 'mu_y',\n",
       " 'mean_dE',\n",
       " 'n_mp',\n",
       " 'intensity',\n",
       " 'eff_alpha_x',\n",
       " 'eff_alpha_y',\n",
       " 'eff_beta_y',\n",
       " 'eff_beta_x',\n",
       " 'alpha_x',\n",
       " 'alpha_y',\n",
       " 'mean_xp',\n",
       " 'bunchlength',\n",
       " 'epsn_y',\n",
       " 'epsn_x',\n",
       " 'beta_y',\n",
       " 'beta_x',\n",
       " 'mu_x',\n",
       " '__header__',\n",
       " 'mean_yp',\n",
       " '__globals__',\n",
       " 'dpp_rms',\n",
       " 'eff_epsn_y',\n",
       " 'eff_epsn_x',\n",
       " 'mean_x',\n",
       " 'mean_y',\n",
       " 'mean_z',\n",
       " '__version__',\n",
       " 'gamma']"
      ]
     },
     "execution_count": 9,
     "metadata": {},
     "output_type": "execute_result"
    }
   ],
   "source": [
    "d.keys()"
   ]
  },
  {
   "cell_type": "code",
   "execution_count": null,
   "metadata": {},
   "outputs": [],
   "source": []
  }
 ],
 "metadata": {
  "kernelspec": {
   "display_name": "Python 2",
   "language": "python",
   "name": "python2"
  },
  "language_info": {
   "codemirror_mode": {
    "name": "ipython",
    "version": 2
   },
   "file_extension": ".py",
   "mimetype": "text/x-python",
   "name": "python",
   "nbconvert_exporter": "python",
   "pygments_lexer": "ipython2",
   "version": "2.7.15"
  }
 },
 "nbformat": 4,
 "nbformat_minor": 2
}
